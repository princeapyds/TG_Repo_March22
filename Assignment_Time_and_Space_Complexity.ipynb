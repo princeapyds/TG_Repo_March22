{
  "nbformat": 4,
  "nbformat_minor": 0,
  "metadata": {
    "colab": {
      "provenance": [],
      "collapsed_sections": [],
      "include_colab_link": true
    },
    "kernelspec": {
      "name": "python3",
      "display_name": "Python 3"
    }
  },
  "cells": [
    {
      "cell_type": "markdown",
      "metadata": {
        "id": "view-in-github",
        "colab_type": "text"
      },
      "source": [
        "<a href=\"https://colab.research.google.com/github/princeapyds/TG_Repo_March22/blob/main/Assignment_Time_and_Space_Complexity.ipynb\" target=\"_parent\"><img src=\"https://colab.research.google.com/assets/colab-badge.svg\" alt=\"Open In Colab\"/></a>"
      ]
    },
    {
      "cell_type": "markdown",
      "metadata": {
        "id": "2jnw9mA7ZmdB"
      },
      "source": [
        "## <u>While doing this assignment only use those concepts which have been taught till now</u>"
      ]
    },
    {
      "cell_type": "markdown",
      "metadata": {
        "id": "OUYGTTD6Q2i_"
      },
      "source": [
        "# Problem 1\n",
        "\n",
        "Write a Python function which takes a string as an input and returns the reversed string as an output. \n",
        "\n",
        "\n",
        "*   Do not use any inbuilt funtion or method. Use `for` loops only.\n",
        "*   Also, do the time and space complexity analysis.\n",
        "\n"
      ]
    },
    {
      "cell_type": "code",
      "metadata": {
        "id": "jef509dzQxBU"
      },
      "source": [
        "# Write your code here\n",
        "\n",
        "\n",
        "\n",
        "\n",
        "\n",
        "\n",
        "\n",
        "\n",
        "\n",
        "\n",
        "\n",
        "# Time Complexity : ?\n",
        "# Space Complexity : ?\n",
        "# Auxiliary Space : ?"
      ],
      "execution_count": null,
      "outputs": []
    },
    {
      "cell_type": "markdown",
      "metadata": {
        "id": "wfeWSBcTgO6y"
      },
      "source": [
        "# Problem 2\n",
        "\n",
        "Write a Python function which takes a list of `n` lists as an input. Each of the `n` lists have `m` non-zero positive integers each. The function should return a list which contains `n` integers corresponding to the square of the maximum of each of the `n` lists in the list of lists.\n",
        "\n",
        "Example:\n",
        "Inputs\n",
        "```\n",
        "n = 2\n",
        "m = 3\n",
        "list_of_lists = [[1, 2, 3], [5, 7, 6]]\n",
        "```\n",
        "Output:\n",
        "```\n",
        "[9, 49]\n",
        "```\n",
        "\n",
        "*   Do not use any inbuilt funtion or method. Use `for` loops only.\n",
        "*   Also, do the time and space complexity analysis.\n"
      ]
    },
    {
      "cell_type": "code",
      "metadata": {
        "id": "x2rY4yMChDPM"
      },
      "source": [
        "# Write your code here\n",
        "\n",
        "\n",
        "\n",
        "\n",
        "\n",
        "\n",
        "\n",
        "\n",
        "\n",
        "\n",
        "\n",
        "\n",
        "\n",
        "\n",
        "\n",
        "\n",
        "\n",
        "\n",
        "\n",
        "\n",
        "\n",
        "# Time Complexity : ?\n",
        "# Space Complexity : ?\n",
        "# Auxiliary Space : ?"
      ],
      "execution_count": null,
      "outputs": []
    }
  ]
}